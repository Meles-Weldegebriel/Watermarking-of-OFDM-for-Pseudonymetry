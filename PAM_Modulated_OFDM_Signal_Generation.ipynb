{
 "cells": [
  {
   "cell_type": "markdown",
   "id": "c260e587",
   "metadata": {},
   "source": [
    "# PAM Modulated OFDM Signal Generation"
   ]
  },
  {
   "cell_type": "code",
   "execution_count": 2186,
   "id": "a2a2d0c9",
   "metadata": {},
   "outputs": [],
   "source": [
    "import numpy as np\n",
    "import matplotlib.pyplot as plt"
   ]
  },
  {
   "cell_type": "code",
   "execution_count": 2187,
   "id": "d1176a92",
   "metadata": {},
   "outputs": [],
   "source": []
  },
  {
   "cell_type": "code",
   "execution_count": 2188,
   "id": "ac3906ed",
   "metadata": {},
   "outputs": [],
   "source": [
    "N = 6000 # number of bits per pseudonym bit\n",
    "mod_index = 0.1 # decides the level of modification/modulation on the host signal"
   ]
  },
  {
   "cell_type": "code",
   "execution_count": 2189,
   "id": "798e9a9a",
   "metadata": {},
   "outputs": [],
   "source": [
    "def OFDM_TX(x):\n",
    "    #args = parse_args()\n",
    "    K = 64 # number of OFDM subcarriers\n",
    "    P = 4 # number of pilot carriers per OFDM block\n",
    "    G = 12 # number of guard carriers\n",
    "    CP = 16  # 25% Cyclic Prefix \n",
    "    M = 2 # bits per symbol (i.e. QPSK)\n",
    "    \n",
    "    # generate the host message signal\n",
    "    bits = np.random.binomial(n=1, p=0.5, size=(x*9600,))\n",
    "    dataCarriers = np.array([-26,-25,-24,-23,-22,-21,-20,-19,-18,-17,-16,-15,-14,-13,-12,-11,-10,-9,-8,-7,-6,\n",
    "                         -5,-4,-3,-2,-1,0,1,2,3,4,5,6,7,8,9,10,11,12,13,14,15,16,17,18,19,20,21,22,23,24,25])\n",
    "    pilotCarriers = np.array([-21,-7,7,21])\n",
    "    guardCarriers = np.array([-32,-31,-30,-29,-28,-27,26,27,28,29,30,31])\n",
    " \n",
    "    for i in range(len(bits)//(2*K)):\n",
    "        \n",
    "        data_bits = bits[i*2*K:(i+1)*2*K]\n",
    "\n",
    "        # Convert serial data to parallel\n",
    "        def Serial_to_Parallel(x):\n",
    "            return x.reshape((K, M))\n",
    "        parallel_bits = Serial_to_Parallel(data_bits)\n",
    "\n",
    "        # mapping table\n",
    "        ## maps data_bits into complex value IQ samples\n",
    "        mapping_table = {\n",
    "            (0,0) : 1.4142 + 1.4142j,\n",
    "            (0,1) : -1.4142 + 1.4142j,\n",
    "            (1,0) : 1.4142 - 1.4142j,\n",
    "            (1,1) : -1.4142 - 1.4142j\n",
    "        }\n",
    "\n",
    "        # mapping\n",
    "        def Mapping(x):\n",
    "            return np.array([mapping_table[tuple(b)] for b in x])\n",
    "        \n",
    "        QPSK = Mapping(parallel_bits)\n",
    "\n",
    "        # OFDM symbol generation\n",
    "        def OFDM_symbol_gen(x):\n",
    "            #pilot_value = np.array([1.5+1.5j, -1.5-1.5j, 1.5+1.5j, -1.5-1.5j])\n",
    "            guard_band = np.array([0+0j, 0+0j, 0+0j, 0+0j, 0+0j, 0+0j, 0+0j, 0+0j, 0+0j, 0+0j, 0+0j, 0+0j])\n",
    "            \n",
    "            symbol = np.zeros(K, dtype=np.complex64)\n",
    "            symbol[dataCarriers] = x[dataCarriers]\n",
    "            #symbol[pilotCarriers] = pilot_value\n",
    "            symbol[guardCarriers] = guard_band\n",
    "            return symbol\n",
    "        OFDM_symbol = OFDM_symbol_gen(QPSK)\n",
    "        \n",
    "        # Generate time domain signal\n",
    "        def IDFT(x, n=64):\n",
    "            return np.fft.ifftshift(np.fft.ifft(x,n))\n",
    "        \n",
    "        OFDM_symbol_time = IDFT(OFDM_symbol)\n",
    "\n",
    "        # adding cyclic prefix samples\n",
    "        def addCP(x):\n",
    "            cp = x[-CP:]              \n",
    "            return np.hstack([cp, x]) \n",
    "        OFDM_withCP = addCP(OFDM_symbol_time)\n",
    "        #OFDM_withCP = addCP(OFDM_symbol)\n",
    "        if i == 0:\n",
    "            OFDM_swap = OFDM_withCP\n",
    "        else:\n",
    "            OFDM_signal = np.hstack([OFDM_swap, OFDM_withCP]) # append data\n",
    "            OFDM_swap = OFDM_signal\n",
    "    return OFDM_signal"
   ]
  },
  {
   "cell_type": "code",
   "execution_count": 2190,
   "id": "b99c7e93",
   "metadata": {},
   "outputs": [],
   "source": [
    "## embedding the pseudonym message signal on to the host data signal\n",
    "## N OFDM samples are multiplied by a higher or lower constant depending on the pseudonym bit sequence.\n",
    "def Pseudonym_embedding(x,message):\n",
    "    modulated_signal = np.zeros(len(x), dtype=np.complex64)\n",
    "    for i in range(int(len(x)/N)):\n",
    "        if message[i] == 1.0:\n",
    "            modulated_signal[i*N:(i+1)*N] = (1+mod_index)*x[i*N:(i+1)*N]\n",
    "        else:\n",
    "            modulated_signal[i*N:(i+1)*N] = (1-mod_index)*x[i*N:(i+1)*N] \n",
    "    return modulated_signal"
   ]
  },
  {
   "cell_type": "code",
   "execution_count": null,
   "id": "727cc620",
   "metadata": {},
   "outputs": [],
   "source": [
    "# Converts text into bits where one character is represented by 7 bits\n",
    "def text2bits(message):\n",
    "    # Convert to characters of '1' and '0' in a vector.\n",
    "    temp_message = []\n",
    "    final_message = []\n",
    "    for each in message:\n",
    "        temp_message.append(format(ord(each), '07b'))\n",
    "    for every in temp_message:\n",
    "        for digit in every:\n",
    "            final_message.append(int(digit))\n",
    "    return final_message"
   ]
  },
  {
   "cell_type": "code",
   "execution_count": 2191,
   "id": "9a1dfcad",
   "metadata": {
    "scrolled": true
   },
   "outputs": [
    {
     "data": {
      "image/png": "[encoded data removed]",
      "text/plain": [
       "<Figure size 504x252 with 2 Axes>"
      ]
     },
     "metadata": {
      "needs_background": "light"
     },
     "output_type": "display_data"
    }
   ],
   "source": [
    "##########################################################################\n",
    "# Generate PAM modulated OFDM signal \n",
    "##########################################################################\n",
    "\n",
    "pseudonym_message = 'STOP'\n",
    "OFDM_signal = OFDM_TX(len(text2bits(pseudonym_message)))\n",
    "PAM_modulated_OFDM = Pseudonym_embedding(OFDM_signal,text2bits(pseudonym_message))\n",
    "\n",
    "# plot of the PAM modulated signal\n",
    "# plots are for the first 12000 OFDM samples\n",
    "ax1 = plt.subplot(1, 2, 1)\n",
    "ax1.plot(abs(OFDM_signal[12000:2*12000]))\n",
    "ax1.set_ylim([0,0.8])\n",
    "plt.hlines(y = .5, color = 'green', xmin = 0, xmax = 12000, linewidth =2)\n",
    "plt.ylabel('|Original OFDM signal(V)|')\n",
    "plt.xlabel('(a)')\n",
    "\n",
    "ax2 = plt.subplot(1, 2, 2)\n",
    "ax2.plot(abs(PAM_modulated_OFDM[12000:2*12000]), label =\"b\")\n",
    "ax2.set_ylim([0,0.8])\n",
    "plt.hlines(y = .55, color = 'red', xmin = 0, xmax = 6000, linewidth =2)\n",
    "plt.hlines(y = .45, color = 'black', xmin = 6000, xmax = 12000, linewidth =2)\n",
    "plt.ylabel('|PAM Modulate OFDM signal(V)|')\n",
    "plt.xlabel('(b)')\n",
    "\n",
    "ax1.legend((\"OFDM\",\"Original Amp.\"), loc = \"upper right\")\n",
    "ax2.legend((\"OFDM\",\"p-bit '1' Amp.\",\"p-bit '0' Amp.\"), loc = \"upper right\")\n",
    "plt.tight_layout()\n",
    "plt.show()"
   ]
  },
  {
   "cell_type": "code",
   "execution_count": 2194,
   "id": "c504beb5",
   "metadata": {
    "scrolled": false
   },
   "outputs": [
    {
     "data": {
      "image/png": "[encoded data removed]",
      "text/plain": [
       "<Figure size 504x252 with 1 Axes>"
      ]
     },
     "metadata": {
      "needs_background": "light"
     },
     "output_type": "display_data"
    }
   ],
   "source": [
    "# The PAM modulated OFDM signal in frequency domain\n",
    "plt.psd(PAM_modulated_OFDM, Fs = 2e6)#, Fc = 3655e6)\n",
    "plt.show()"
   ]
  },
  {
   "cell_type": "markdown",
   "id": "1c0f1b12",
   "metadata": {},
   "source": [
    "## Add preamble for synchronization\n",
    "## Preamble generation is forked from: https://github.com/npatwari/tx_rx_processing/tree/main"
   ]
  },
  {
   "cell_type": "code",
   "execution_count": 2195,
   "id": "755c6982",
   "metadata": {},
   "outputs": [],
   "source": [
    "def createPreambleSignal(A, N, alpha, Lp):\n",
    "\n",
    "    # We defined the preamble as this repeating bit signal:\n",
    "    preamble     = np.tile([1, 1, 0, 0], 16)\n",
    "\n",
    "    ###########################################\n",
    "    ### Signal Generation\n",
    "    ### INPUT: binary data\n",
    "    ### OUTPUT: 4-ary data (0..3) values\n",
    "    data = binary2mary(preamble, 4)\n",
    "\n",
    "    ###########################################\n",
    "    ### Modulation\n",
    "    ### INPUT: data\n",
    "    ### OUTPUT: modulated values, x\n",
    "    inputVec   = [0, 1, 2, 3]\n",
    "    outputVecI = [A, -A, A, -A]\n",
    "    outputVecQ = [A, A, -A, -A]\n",
    "    xI         = lut(data, inputVec, outputVecI)\n",
    "    xQ         = lut(data, inputVec, outputVecQ)\n",
    "\n",
    "    ###########################################\n",
    "    ### Upsample\n",
    "    ### INPUT: modulated values, x\n",
    "    ### OUTPUT: modulated values at sampling rate, x_s\n",
    "    x_s_I = oversample(xI, N)\n",
    "    x_s_Q = oversample(xQ, N)\n",
    "\n",
    "    ###########################################\n",
    "    ### Pulse-shape filter\n",
    "    ### INPUT: modulated values at sampling rate, x_s\n",
    "    ### OUTPUT: baseband transmit signal s\n",
    "    pulse = SRRC(alpha, N, Lp)\n",
    "    s_0_I = np.convolve(x_s_I, pulse, mode='full')\n",
    "    s_0_Q = np.convolve(x_s_Q, pulse, mode='full')\n",
    "    \n",
    "    return (s_0_I + 1j*s_0_Q)"
   ]
  },
  {
   "cell_type": "code",
   "execution_count": 2196,
   "id": "8f9cf481",
   "metadata": {},
   "outputs": [],
   "source": [
    "# PURPOSE: Convert binary data to M-ary by making groups of log2(M)\n",
    "#          bits and converting each bit to one M-ary digit.\n",
    "# INPUT: Binary digit vector, with length as a multiple of log2(M)\n",
    "# OUTPUT: M-ary digit vector\n",
    "def binary2mary(data, M):\n",
    "\n",
    "    log2M   = round(np.log2(M))\n",
    "    # integer number of bits per group\n",
    "    if (len(data) % log2M) != 0:\n",
    "        print('Input to binary2mary must be divisible by log2(m).')\n",
    "    data.shape = (len(data)//log2M, log2M)\n",
    "    binaryValuesArray = 2**np.arange(log2M)\n",
    "    marydata = data.dot(binaryValuesArray)\n",
    "    return marydata"
   ]
  },
  {
   "cell_type": "code",
   "execution_count": 2197,
   "id": "c1545aa4",
   "metadata": {},
   "outputs": [],
   "source": [
    "# PURPOSE: convert input data stream to signal space values for\n",
    "#          a particular modulation type (as specified by the inputVec\n",
    "#          and outputVec).\n",
    "# INPUT: data (groups of bits)\n",
    "# OUTPUT: signal space values\n",
    "def lut(data, inputVec, outputVec):\n",
    "    if len(inputVec) != len(outputVec):\n",
    "        print('Input and Output vectors must have identical length')\n",
    "    # Initialize output\n",
    "    output = np.zeros(data.shape)\n",
    "    # For each possible data value\n",
    "    eps = np.finfo('float').eps\n",
    "    for i in range(len(inputVec)):\n",
    "        # Find the indices where data is equal to that input value\n",
    "        for k in range(len(data)):\n",
    "            if abs(data[k]-inputVec[i]) < eps:\n",
    "                # Set those indices in the output to be the appropriate output value.\n",
    "                output[k] = outputVec[i]\n",
    "    return output"
   ]
  },
  {
   "cell_type": "code",
   "execution_count": 2198,
   "id": "55e690c8",
   "metadata": {},
   "outputs": [],
   "source": [
    "# PURPOSE: insert 0's between samples to oversample at OS_Rate\n",
    "# INPUT: x (data), OS_Rate (how frequently data occurs)\n",
    "# OUTPUT: x_s (oversampled data)\n",
    "def oversample(x, OS_Rate):\n",
    "    # Initialize output\n",
    "    x_s = np.zeros(len(x)*OS_Rate)\n",
    "    x_s[::OS_Rate] = x\n",
    "    return x_s"
   ]
  },
  {
   "cell_type": "code",
   "execution_count": 2199,
   "id": "7ea08814",
   "metadata": {},
   "outputs": [],
   "source": [
    "# PURPOSE: create a square root raised cosine pulse shape\n",
    "# INPUT: alpha, N, Lp\n",
    "# OUTPUT: pulse wave array for srrc\n",
    "def SRRC(alpha, N, Lp):\n",
    "    # Add epsilon to the n values to avoid numerical problems\n",
    "    n = np.arange(-N*Lp+ (1e-9), N*Lp+1)\n",
    "    h = np.zeros(len(n))\n",
    "    coeff = 1/np.sqrt(N)\n",
    "    for i, each in enumerate(n):\n",
    "        sine_term = np.sin(np.pi * each * (1-alpha) / N)\n",
    "        cosine_term = np.cos(np.pi * each * (1+alpha) / N)\n",
    "        cosine_coeff = 4 * alpha * each / N\n",
    "        numerator = sine_term + (cosine_coeff * cosine_term)\n",
    "        denom_coeff = np.pi * each / N\n",
    "        denom_part = 1 - cosine_coeff**2\n",
    "        denominator = denom_coeff * denom_part\n",
    "        h[i] = coeff * numerator / denominator\n",
    "    return h"
   ]
  },
  {
   "cell_type": "code",
   "execution_count": 2200,
   "id": "ae252c70",
   "metadata": {},
   "outputs": [
    {
     "data": {
      "text/plain": [
       "352"
      ]
     },
     "execution_count": 2200,
     "metadata": {},
     "output_type": "execute_result"
    }
   ],
   "source": [
    "A = np.sqrt(9/2)\n",
    "N = 8\n",
    "alpha = 0.5\n",
    "Lp = 6\n",
    "preambleSignal = createPreambleSignal(A, N, alpha, Lp)"
   ]
  },
  {
   "cell_type": "code",
   "execution_count": 2201,
   "id": "888462ba",
   "metadata": {},
   "outputs": [],
   "source": [
    "PAM_Modulated_OFDM_with_preamb = np.hstack([preambleSignal,PAM_modulated_OFDM])"
   ]
  },
  {
   "cell_type": "markdown",
   "id": "d7b4a419",
   "metadata": {},
   "source": [
    "## Convert complex into binary for transmission over GNU radio"
   ]
  },
  {
   "cell_type": "code",
   "execution_count": 2203,
   "id": "b70f0b45",
   "metadata": {},
   "outputs": [],
   "source": [
    "# Converts complex to floating point numbers\n",
    "# filename is the file data for transmission using one of the SDRs nodes running GNU radio\n",
    "def write_complex_binary(data, filename):\n",
    "    '''\n",
    "    Open filename and write array to it as binary\n",
    "    Format is interleaved float IQ e.g. each I,Q should be 32-bit float \n",
    "    INPUT\n",
    "    ----\n",
    "    data:     data to be writen into the file. format: (length, )\n",
    "    filename: file name\n",
    "    '''\n",
    "    re = np.real(data)\n",
    "    im = np.imag(data)\n",
    "    binary = np.zeros(len(data)*2, dtype=np.float32)\n",
    "    binary[::2] = re\n",
    "    binary[1::2] = im\n",
    "    binary.tofile(filename)   \n",
    "write_complex_binary(PAM_Modulated_OFDM_with_preamb, 'OFDM_signal_m02.iq')"
   ]
  }
 ],
 "metadata": {
  "kernelspec": {
   "display_name": "Python 3 (ipykernel)",
   "language": "python",
   "name": "python3"
  },
  "language_info": {
   "codemirror_mode": {
    "name": "ipython",
    "version": 3
   },
   "file_extension": ".py",
   "mimetype": "text/x-python",
   "name": "python",
   "nbconvert_exporter": "python",
   "pygments_lexer": "ipython3",
   "version": "3.9.7"
  }
 },
 "nbformat": 4,
 "nbformat_minor": 5
}
